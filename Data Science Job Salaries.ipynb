{
 "cells": [
  {
   "cell_type": "markdown",
   "metadata": {},
   "source": [
    "# Análise - Salários de trabalho em Data Science "
   ]
  },
  {
   "cell_type": "markdown",
   "metadata": {},
   "source": [
    "## Sobre o dataset\n",
    "\n",
    "Esse é um dataset com dados que foram montados pelo ai-jobs.net. É um site que coleta informações(anônimas) de salários de profissionais por todo o mundo na área de Inteligência Artificial, Machine Learning e Big Data.\n",
    "\n",
    "Esses dados foram retirados do site em 29 de agosto de 2022. As 11 colunas estão descritas a seguir."
   ]
  },
  {
   "cell_type": "markdown",
   "metadata": {},
   "source": [
    "* **work_year**: Ano que o salário foi pago\n",
    "* **experience_level**: Nível de experiência durante o ano\n",
    "    - EN: Entry-level / Junior\n",
    "    - MI: Mid-level / Intermediate\n",
    "    - SE: Senior-level / Expert\n",
    "    - EX: Executive-level / Director\n",
    "* **employment_type**: Tipo de emprego\n",
    "    - PT: Part-time\n",
    "    - FT: Full-time\n",
    "    - CT: Contract\n",
    "    - FL: Freelance    \n",
    "* **job_title**: Nome da vaga\n",
    "* **salary**: Salário bruto pago\n",
    "* **salary_currency**: Moeda do salário pago\n",
    "* **salary_in_usd**: Salário em dólar (taxa de câmbio média do ano)\n",
    "* **employee_residence**: Principal país de residência durante o ano de trabalho\n",
    "* **remote_ratio**: Se o trabalho foi feito remotamente\n",
    "    - 0: Nenhum trabalho remoto (menos que 20%)\n",
    "    - 50: Parcialmente remoto\n",
    "    - 100: Totalmente remoto (mais que 80%)\n",
    "* **company_location**: País da empresa matriz\n",
    "* **company_size**: Média de pessoas que trabalham para a empresa\n",
    "    - S: Menos de 50 funcionários (pequena)\n",
    "    - M: Entre 50 e 250 funcionários (média)\n",
    "    - L: Mais que 250 funcionários (grande)"
   ]
  },
  {
   "cell_type": "markdown",
   "metadata": {},
   "source": [
    "## Análise dos dados"
   ]
  },
  {
   "cell_type": "markdown",
   "metadata": {},
   "source": [
    "Importando as bibliotecas que serão utilizadas para a análise dos dados"
   ]
  },
  {
   "cell_type": "code",
   "execution_count": 1,
   "metadata": {},
   "outputs": [],
   "source": [
    "import pandas as pd\n",
    "import numpy as np\n",
    "import matplotlib.pyplot as plt"
   ]
  },
  {
   "cell_type": "code",
   "execution_count": 2,
   "metadata": {},
   "outputs": [],
   "source": [
    "df_salary = pd.read_csv('salaries.csv')"
   ]
  },
  {
   "cell_type": "code",
   "execution_count": 3,
   "metadata": {},
   "outputs": [
    {
     "data": {
      "text/html": [
       "<div>\n",
       "<style scoped>\n",
       "    .dataframe tbody tr th:only-of-type {\n",
       "        vertical-align: middle;\n",
       "    }\n",
       "\n",
       "    .dataframe tbody tr th {\n",
       "        vertical-align: top;\n",
       "    }\n",
       "\n",
       "    .dataframe thead th {\n",
       "        text-align: right;\n",
       "    }\n",
       "</style>\n",
       "<table border=\"1\" class=\"dataframe\">\n",
       "  <thead>\n",
       "    <tr style=\"text-align: right;\">\n",
       "      <th></th>\n",
       "      <th>work_year</th>\n",
       "      <th>experience_level</th>\n",
       "      <th>employment_type</th>\n",
       "      <th>job_title</th>\n",
       "      <th>salary</th>\n",
       "      <th>salary_currency</th>\n",
       "      <th>salary_in_usd</th>\n",
       "      <th>employee_residence</th>\n",
       "      <th>remote_ratio</th>\n",
       "      <th>company_location</th>\n",
       "      <th>company_size</th>\n",
       "    </tr>\n",
       "  </thead>\n",
       "  <tbody>\n",
       "    <tr>\n",
       "      <th>0</th>\n",
       "      <td>2022</td>\n",
       "      <td>MI</td>\n",
       "      <td>FT</td>\n",
       "      <td>BI Data Analyst</td>\n",
       "      <td>77000</td>\n",
       "      <td>AUD</td>\n",
       "      <td>54840</td>\n",
       "      <td>AU</td>\n",
       "      <td>100</td>\n",
       "      <td>AU</td>\n",
       "      <td>M</td>\n",
       "    </tr>\n",
       "    <tr>\n",
       "      <th>1</th>\n",
       "      <td>2022</td>\n",
       "      <td>SE</td>\n",
       "      <td>FT</td>\n",
       "      <td>Data Scientist</td>\n",
       "      <td>175000</td>\n",
       "      <td>USD</td>\n",
       "      <td>175000</td>\n",
       "      <td>US</td>\n",
       "      <td>0</td>\n",
       "      <td>US</td>\n",
       "      <td>M</td>\n",
       "    </tr>\n",
       "    <tr>\n",
       "      <th>2</th>\n",
       "      <td>2022</td>\n",
       "      <td>SE</td>\n",
       "      <td>FT</td>\n",
       "      <td>Data Scientist</td>\n",
       "      <td>140000</td>\n",
       "      <td>USD</td>\n",
       "      <td>140000</td>\n",
       "      <td>US</td>\n",
       "      <td>0</td>\n",
       "      <td>US</td>\n",
       "      <td>M</td>\n",
       "    </tr>\n",
       "    <tr>\n",
       "      <th>3</th>\n",
       "      <td>2022</td>\n",
       "      <td>EN</td>\n",
       "      <td>FT</td>\n",
       "      <td>3D Computer Vision Researcher</td>\n",
       "      <td>2324</td>\n",
       "      <td>USD</td>\n",
       "      <td>2324</td>\n",
       "      <td>AX</td>\n",
       "      <td>0</td>\n",
       "      <td>AL</td>\n",
       "      <td>L</td>\n",
       "    </tr>\n",
       "    <tr>\n",
       "      <th>4</th>\n",
       "      <td>2022</td>\n",
       "      <td>SE</td>\n",
       "      <td>FT</td>\n",
       "      <td>Lead Data Scientist</td>\n",
       "      <td>28500</td>\n",
       "      <td>EUR</td>\n",
       "      <td>30615</td>\n",
       "      <td>PT</td>\n",
       "      <td>50</td>\n",
       "      <td>PT</td>\n",
       "      <td>S</td>\n",
       "    </tr>\n",
       "  </tbody>\n",
       "</table>\n",
       "</div>"
      ],
      "text/plain": [
       "   work_year experience_level employment_type                      job_title  \\\n",
       "0       2022               MI              FT                BI Data Analyst   \n",
       "1       2022               SE              FT                 Data Scientist   \n",
       "2       2022               SE              FT                 Data Scientist   \n",
       "3       2022               EN              FT  3D Computer Vision Researcher   \n",
       "4       2022               SE              FT            Lead Data Scientist   \n",
       "\n",
       "   salary salary_currency  salary_in_usd employee_residence  remote_ratio  \\\n",
       "0   77000             AUD          54840                 AU           100   \n",
       "1  175000             USD         175000                 US             0   \n",
       "2  140000             USD         140000                 US             0   \n",
       "3    2324             USD           2324                 AX             0   \n",
       "4   28500             EUR          30615                 PT            50   \n",
       "\n",
       "  company_location company_size  \n",
       "0               AU            M  \n",
       "1               US            M  \n",
       "2               US            M  \n",
       "3               AL            L  \n",
       "4               PT            S  "
      ]
     },
     "execution_count": 3,
     "metadata": {},
     "output_type": "execute_result"
    }
   ],
   "source": [
    "df_salary.head(5)"
   ]
  },
  {
   "cell_type": "code",
   "execution_count": 4,
   "metadata": {},
   "outputs": [
    {
     "name": "stdout",
     "output_type": "stream",
     "text": [
      "Tamanho do dataset: (827, 11)\n"
     ]
    }
   ],
   "source": [
    "print('Tamanho do dataset:', df_salary.shape)"
   ]
  },
  {
   "cell_type": "code",
   "execution_count": 5,
   "metadata": {},
   "outputs": [
    {
     "name": "stdout",
     "output_type": "stream",
     "text": [
      "<class 'pandas.core.frame.DataFrame'>\n",
      "RangeIndex: 827 entries, 0 to 826\n",
      "Data columns (total 11 columns):\n",
      " #   Column              Non-Null Count  Dtype \n",
      "---  ------              --------------  ----- \n",
      " 0   work_year           827 non-null    int64 \n",
      " 1   experience_level    827 non-null    object\n",
      " 2   employment_type     827 non-null    object\n",
      " 3   job_title           827 non-null    object\n",
      " 4   salary              827 non-null    int64 \n",
      " 5   salary_currency     827 non-null    object\n",
      " 6   salary_in_usd       827 non-null    int64 \n",
      " 7   employee_residence  827 non-null    object\n",
      " 8   remote_ratio        827 non-null    int64 \n",
      " 9   company_location    827 non-null    object\n",
      " 10  company_size        827 non-null    object\n",
      "dtypes: int64(4), object(7)\n",
      "memory usage: 71.2+ KB\n"
     ]
    }
   ],
   "source": [
    "df_salary.info()"
   ]
  },
  {
   "cell_type": "markdown",
   "metadata": {},
   "source": [
    "Temos um dataset com 827 linhas/coletas e 11 colunas/atributos. Nenhuma coluna tem dados nulos. As colunas de work_salary, salary, salary_in_usd e remote_ratio estão como valores inteiros, como era de se esperar."
   ]
  },
  {
   "cell_type": "code",
   "execution_count": 6,
   "metadata": {},
   "outputs": [
    {
     "data": {
      "text/plain": [
       "2022    533\n",
       "2021    219\n",
       "2020     75\n",
       "Name: work_year, dtype: int64"
      ]
     },
     "execution_count": 6,
     "metadata": {},
     "output_type": "execute_result"
    }
   ],
   "source": [
    "df_salary['work_year'].value_counts()"
   ]
  },
  {
   "cell_type": "markdown",
   "metadata": {},
   "source": [
    "Temos dados desde 2020, sendo 2022 o ano em que se obtiveram mais coletas. Dados recentes, dando uma visão melhor para profissionais da área de dados ou quem busca uma transição de carreira voltada para dados, que queiram saber como está o mercado."
   ]
  },
  {
   "cell_type": "markdown",
   "metadata": {},
   "source": [
    "#### Nível de experiência"
   ]
  },
  {
   "cell_type": "code",
   "execution_count": 7,
   "metadata": {},
   "outputs": [
    {
     "data": {
      "text/plain": [
       "Text(0.5, 1.0, 'Nível de Experiência')"
      ]
     },
     "execution_count": 7,
     "metadata": {},
     "output_type": "execute_result"
    },
    {
     "data": {
      "image/png": "[encoded data removed]",
      "text/plain": [
       "<Figure size 432x288 with 1 Axes>"
      ]
     },
     "metadata": {
      "needs_background": "light"
     },
     "output_type": "display_data"
    }
   ],
   "source": [
    "df_salary['experience_level'].hist()\n",
    "plt.title('Nível de Experiência')"
   ]
  },
  {
   "cell_type": "markdown",
   "metadata": {},
   "source": [
    "Temos que mais da metade dos dados (51%) são de cargos sênior/expert e a minoria são de cargos executivos/diretor."
   ]
  },
  {
   "cell_type": "code",
   "execution_count": 8,
   "metadata": {},
   "outputs": [],
   "source": [
    "df_exp = df_salary.groupby(['experience_level'])"
   ]
  },
  {
   "cell_type": "code",
   "execution_count": 9,
   "metadata": {},
   "outputs": [
    {
     "data": {
      "text/plain": [
       "experience_level\n",
       "EX    214152.156250\n",
       "SE    144117.011710\n",
       "MI     90184.843137\n",
       "EN     61776.814159\n",
       "Name: salary_in_usd, dtype: float64"
      ]
     },
     "execution_count": 9,
     "metadata": {},
     "output_type": "execute_result"
    }
   ],
   "source": [
    "df_exp.salary_in_usd.mean().sort_values(ascending=False)"
   ]
  },
  {
   "cell_type": "code",
   "execution_count": 10,
   "metadata": {},
   "outputs": [
    {
     "data": {
      "image/png": "[encoded data removed]",
      "text/plain": [
       "<Figure size 432x288 with 1 Axes>"
      ]
     },
     "metadata": {
      "needs_background": "light"
     },
     "output_type": "display_data"
    }
   ],
   "source": [
    "fig = plt.figure()\n",
    "ax = fig.add_axes([0,0,1,1])\n",
    "exp = ['EX', 'SE', 'MI', 'EN']\n",
    "salary_exp = df_exp.salary_in_usd.mean().sort_values(ascending=False)\n",
    "ax.bar(exp,salary_exp,width=0.7)\n",
    "plt.title('Salário anual por nível de experiência')\n",
    "plt.show()"
   ]
  },
  {
   "cell_type": "markdown",
   "metadata": {},
   "source": [
    "Como era de se esperar, os salários mais altos são para cargos executivos e os mais baixos para júnior"
   ]
  },
  {
   "cell_type": "markdown",
   "metadata": {},
   "source": [
    "#### Tipo de emprego"
   ]
  },
  {
   "cell_type": "code",
   "execution_count": 11,
   "metadata": {},
   "outputs": [
    {
     "data": {
      "text/plain": [
       "Text(0.5, 1.0, 'Tipo de emprego')"
      ]
     },
     "execution_count": 11,
     "metadata": {},
     "output_type": "execute_result"
    },
    {
     "data": {
      "image/png": "[encoded data removed]",
      "text/plain": [
       "<Figure size 432x288 with 1 Axes>"
      ]
     },
     "metadata": {
      "needs_background": "light"
     },
     "output_type": "display_data"
    }
   ],
   "source": [
    "df_salary['employment_type'].hist()\n",
    "plt.title('Tipo de emprego')"
   ]
  },
  {
   "cell_type": "markdown",
   "metadata": {},
   "source": [
    "Quase todos os cargos são para trabalho integral (full time)"
   ]
  },
  {
   "cell_type": "code",
   "execution_count": 12,
   "metadata": {},
   "outputs": [],
   "source": [
    "df_type = df_salary.groupby(['employment_type'])"
   ]
  },
  {
   "cell_type": "code",
   "execution_count": 13,
   "metadata": {},
   "outputs": [
    {
     "data": {
      "text/plain": [
       "employment_type\n",
       "CT    303692.166667\n",
       "FT    119110.515528\n",
       "FL     44634.000000\n",
       "PT     39950.909091\n",
       "Name: salary_in_usd, dtype: float64"
      ]
     },
     "execution_count": 13,
     "metadata": {},
     "output_type": "execute_result"
    }
   ],
   "source": [
    "salary_types = df_type.salary_in_usd.mean().sort_values(ascending=False)\n",
    "salary_types"
   ]
  },
  {
   "cell_type": "code",
   "execution_count": 14,
   "metadata": {},
   "outputs": [
    {
     "data": {
      "image/png": "[encoded data removed]",
      "text/plain": [
       "<Figure size 432x288 with 1 Axes>"
      ]
     },
     "metadata": {
      "needs_background": "light"
     },
     "output_type": "display_data"
    }
   ],
   "source": [
    "fig = plt.figure()\n",
    "ax = fig.add_axes([0,0,1,1])\n",
    "types = ['CT', 'FT', 'FL', 'PT']\n",
    "ax.bar(types,salary_types,width=0.7)\n",
    "plt.title('Salário anual para cada tipo de trabalho')\n",
    "plt.show()"
   ]
  },
  {
   "cell_type": "markdown",
   "metadata": {},
   "source": [
    "Os cargos tipo 'Contractor' são os que pagam melhores salários. Mas não podemos tirar muitas conclusões porque a quantidade de pessoas com esse tipo de emprego é muito pequena."
   ]
  },
  {
   "cell_type": "markdown",
   "metadata": {},
   "source": [
    "Qual a diferença entre 'Contractor' e 'Full-time'?\n",
    "'Contractor' é um trabalho que o contrato é feito para um tipo de serviço (geralmente), ele é pago por hora, não tem direito à férias, bônus e direitos de treinamento, cursos. Já o tipo 'Full-time' é pago anualmente, tem direito à bônus, férias, é um emprego mais estável."
   ]
  },
  {
   "cell_type": "markdown",
   "metadata": {},
   "source": [
    "#### Descrição do cargo"
   ]
  },
  {
   "cell_type": "code",
   "execution_count": 15,
   "metadata": {},
   "outputs": [
    {
     "data": {
      "text/plain": [
       "Data Engineer                189\n",
       "Data Scientist               183\n",
       "Data Analyst                 126\n",
       "Machine Learning Engineer     66\n",
       "Data Science Manager          25\n",
       "Name: job_title, dtype: int64"
      ]
     },
     "execution_count": 15,
     "metadata": {},
     "output_type": "execute_result"
    }
   ],
   "source": [
    "df_salary['job_title'].value_counts().head()"
   ]
  },
  {
   "cell_type": "markdown",
   "metadata": {},
   "source": [
    "Os 5 cargos que apareceram mais vezes no dataset foram os descritos acima. Uma atenção especial deve ser dada para os top 3 dessa lista.\n",
    "\n",
    "Salário médio dos top 3 cargos (usd):"
   ]
  },
  {
   "cell_type": "code",
   "execution_count": 16,
   "metadata": {},
   "outputs": [
    {
     "name": "stdout",
     "output_type": "stream",
     "text": [
      "Salário médio anual para top 3 cargos\n",
      "\n",
      "Data Engineer:\n",
      "116866.92592592593\n",
      "\n",
      "Data Scientist:\n",
      "112261.39344262295\n",
      "\n",
      "Data Analyst:\n",
      "95782.76984126984\n"
     ]
    }
   ],
   "source": [
    "print('Salário médio anual para top 3 cargos')\n",
    "# Média de salário para Data Engineer  \n",
    "print('\\nData Engineer:')\n",
    "print(df_salary[df_salary['job_title'] == 'Data Engineer']['salary_in_usd'].mean())\n",
    "# Média de salário para Data Scientist\n",
    "print('\\nData Scientist:')\n",
    "print(df_salary[df_salary['job_title'] == 'Data Scientist']['salary_in_usd'].mean())\n",
    "# Média de salário para Data Analyst \n",
    "print('\\nData Analyst:')\n",
    "print(df_salary[df_salary['job_title'] == 'Data Analyst']['salary_in_usd'].mean())"
   ]
  },
  {
   "cell_type": "markdown",
   "metadata": {},
   "source": [
    "#### Salário em Dólar"
   ]
  },
  {
   "cell_type": "code",
   "execution_count": 17,
   "metadata": {},
   "outputs": [
    {
     "data": {
      "text/plain": [
       "count       827.000000\n",
       "mean     118946.490931\n",
       "std       78283.334993\n",
       "min        2324.000000\n",
       "25%       65006.500000\n",
       "50%      110000.000000\n",
       "75%      156800.000000\n",
       "max      900000.000000\n",
       "Name: salary_in_usd, dtype: float64"
      ]
     },
     "execution_count": 17,
     "metadata": {},
     "output_type": "execute_result"
    }
   ],
   "source": [
    "df_salary['salary_in_usd'].describe()"
   ]
  },
  {
   "cell_type": "code",
   "execution_count": 18,
   "metadata": {},
   "outputs": [
    {
     "data": {
      "text/plain": [
       "<AxesSubplot:>"
      ]
     },
     "execution_count": 18,
     "metadata": {},
     "output_type": "execute_result"
    },
    {
     "data": {
      "image/png": "[encoded data removed]",
      "text/plain": [
       "<Figure size 432x288 with 1 Axes>"
      ]
     },
     "metadata": {
      "needs_background": "light"
     },
     "output_type": "display_data"
    }
   ],
   "source": [
    "df_salary['salary_in_usd'].hist(bins=50)"
   ]
  },
  {
   "cell_type": "markdown",
   "metadata": {},
   "source": [
    "Média salarial do dataset é de ~ 119 mil dólares por ano, próximo à média salarial de um engenheiro de dados. O salário mais alto foi de 900 mil dólares, bem alto com relação à média. 75% dos salários ficam em até 156800."
   ]
  },
  {
   "cell_type": "markdown",
   "metadata": {},
   "source": [
    "#### Países de residência dos empregados"
   ]
  },
  {
   "cell_type": "code",
   "execution_count": 19,
   "metadata": {},
   "outputs": [
    {
     "name": "stdout",
     "output_type": "stream",
     "text": [
      "Número de países com dados:\n",
      "63\n"
     ]
    }
   ],
   "source": [
    "print('Número de países com dados:')\n",
    "print(len(df_salary['employee_residence'].value_counts()))"
   ]
  },
  {
   "cell_type": "code",
   "execution_count": 20,
   "metadata": {},
   "outputs": [
    {
     "data": {
      "text/plain": [
       "US    496\n",
       "GB     60\n",
       "IN     38\n",
       "CA     31\n",
       "DE     28\n",
       "Name: employee_residence, dtype: int64"
      ]
     },
     "execution_count": 20,
     "metadata": {},
     "output_type": "execute_result"
    }
   ],
   "source": [
    "df_salary['employee_residence'].value_counts().head()"
   ]
  },
  {
   "cell_type": "markdown",
   "metadata": {},
   "source": [
    "Na maioria dos cargos os funcionários estavam morando nos Estados Unidos."
   ]
  },
  {
   "cell_type": "code",
   "execution_count": 21,
   "metadata": {},
   "outputs": [
    {
     "data": {
      "text/html": [
       "<div>\n",
       "<style scoped>\n",
       "    .dataframe tbody tr th:only-of-type {\n",
       "        vertical-align: middle;\n",
       "    }\n",
       "\n",
       "    .dataframe tbody tr th {\n",
       "        vertical-align: top;\n",
       "    }\n",
       "\n",
       "    .dataframe thead th {\n",
       "        text-align: right;\n",
       "    }\n",
       "</style>\n",
       "<table border=\"1\" class=\"dataframe\">\n",
       "  <thead>\n",
       "    <tr style=\"text-align: right;\">\n",
       "      <th></th>\n",
       "      <th>work_year</th>\n",
       "      <th>experience_level</th>\n",
       "      <th>employment_type</th>\n",
       "      <th>job_title</th>\n",
       "      <th>salary</th>\n",
       "      <th>salary_currency</th>\n",
       "      <th>salary_in_usd</th>\n",
       "      <th>employee_residence</th>\n",
       "      <th>remote_ratio</th>\n",
       "      <th>company_location</th>\n",
       "      <th>company_size</th>\n",
       "    </tr>\n",
       "  </thead>\n",
       "  <tbody>\n",
       "    <tr>\n",
       "      <th>36</th>\n",
       "      <td>2022</td>\n",
       "      <td>EN</td>\n",
       "      <td>FT</td>\n",
       "      <td>BI Data Analyst</td>\n",
       "      <td>32400</td>\n",
       "      <td>BRL</td>\n",
       "      <td>6322</td>\n",
       "      <td>BR</td>\n",
       "      <td>100</td>\n",
       "      <td>BR</td>\n",
       "      <td>L</td>\n",
       "    </tr>\n",
       "    <tr>\n",
       "      <th>96</th>\n",
       "      <td>2022</td>\n",
       "      <td>SE</td>\n",
       "      <td>FT</td>\n",
       "      <td>Data Scientist</td>\n",
       "      <td>12500</td>\n",
       "      <td>BRL</td>\n",
       "      <td>2439</td>\n",
       "      <td>BR</td>\n",
       "      <td>100</td>\n",
       "      <td>BR</td>\n",
       "      <td>L</td>\n",
       "    </tr>\n",
       "    <tr>\n",
       "      <th>517</th>\n",
       "      <td>2022</td>\n",
       "      <td>SE</td>\n",
       "      <td>FT</td>\n",
       "      <td>Data Scientist</td>\n",
       "      <td>100000</td>\n",
       "      <td>USD</td>\n",
       "      <td>100000</td>\n",
       "      <td>BR</td>\n",
       "      <td>100</td>\n",
       "      <td>US</td>\n",
       "      <td>M</td>\n",
       "    </tr>\n",
       "    <tr>\n",
       "      <th>550</th>\n",
       "      <td>2021</td>\n",
       "      <td>SE</td>\n",
       "      <td>FT</td>\n",
       "      <td>Computer Vision Engineer</td>\n",
       "      <td>24000</td>\n",
       "      <td>USD</td>\n",
       "      <td>24000</td>\n",
       "      <td>BR</td>\n",
       "      <td>100</td>\n",
       "      <td>BR</td>\n",
       "      <td>M</td>\n",
       "    </tr>\n",
       "    <tr>\n",
       "      <th>651</th>\n",
       "      <td>2021</td>\n",
       "      <td>SE</td>\n",
       "      <td>FT</td>\n",
       "      <td>Cloud Data Engineer</td>\n",
       "      <td>160000</td>\n",
       "      <td>USD</td>\n",
       "      <td>160000</td>\n",
       "      <td>BR</td>\n",
       "      <td>100</td>\n",
       "      <td>US</td>\n",
       "      <td>S</td>\n",
       "    </tr>\n",
       "    <tr>\n",
       "      <th>774</th>\n",
       "      <td>2021</td>\n",
       "      <td>MI</td>\n",
       "      <td>FT</td>\n",
       "      <td>Data Scientist</td>\n",
       "      <td>69600</td>\n",
       "      <td>BRL</td>\n",
       "      <td>12901</td>\n",
       "      <td>BR</td>\n",
       "      <td>0</td>\n",
       "      <td>BR</td>\n",
       "      <td>S</td>\n",
       "    </tr>\n",
       "    <tr>\n",
       "      <th>794</th>\n",
       "      <td>2021</td>\n",
       "      <td>SE</td>\n",
       "      <td>FT</td>\n",
       "      <td>Computer Vision Engineer</td>\n",
       "      <td>102000</td>\n",
       "      <td>BRL</td>\n",
       "      <td>18907</td>\n",
       "      <td>BR</td>\n",
       "      <td>0</td>\n",
       "      <td>BR</td>\n",
       "      <td>M</td>\n",
       "    </tr>\n",
       "    <tr>\n",
       "      <th>807</th>\n",
       "      <td>2021</td>\n",
       "      <td>EN</td>\n",
       "      <td>PT</td>\n",
       "      <td>AI Scientist</td>\n",
       "      <td>12000</td>\n",
       "      <td>USD</td>\n",
       "      <td>12000</td>\n",
       "      <td>BR</td>\n",
       "      <td>100</td>\n",
       "      <td>US</td>\n",
       "      <td>S</td>\n",
       "    </tr>\n",
       "  </tbody>\n",
       "</table>\n",
       "</div>"
      ],
      "text/plain": [
       "     work_year experience_level employment_type                 job_title  \\\n",
       "36        2022               EN              FT           BI Data Analyst   \n",
       "96        2022               SE              FT            Data Scientist   \n",
       "517       2022               SE              FT            Data Scientist   \n",
       "550       2021               SE              FT  Computer Vision Engineer   \n",
       "651       2021               SE              FT       Cloud Data Engineer   \n",
       "774       2021               MI              FT            Data Scientist   \n",
       "794       2021               SE              FT  Computer Vision Engineer   \n",
       "807       2021               EN              PT              AI Scientist   \n",
       "\n",
       "     salary salary_currency  salary_in_usd employee_residence  remote_ratio  \\\n",
       "36    32400             BRL           6322                 BR           100   \n",
       "96    12500             BRL           2439                 BR           100   \n",
       "517  100000             USD         100000                 BR           100   \n",
       "550   24000             USD          24000                 BR           100   \n",
       "651  160000             USD         160000                 BR           100   \n",
       "774   69600             BRL          12901                 BR             0   \n",
       "794  102000             BRL          18907                 BR             0   \n",
       "807   12000             USD          12000                 BR           100   \n",
       "\n",
       "    company_location company_size  \n",
       "36                BR            L  \n",
       "96                BR            L  \n",
       "517               US            M  \n",
       "550               BR            M  \n",
       "651               US            S  \n",
       "774               BR            S  \n",
       "794               BR            M  \n",
       "807               US            S  "
      ]
     },
     "execution_count": 21,
     "metadata": {},
     "output_type": "execute_result"
    }
   ],
   "source": [
    "df_salary[df_salary['employee_residence'] == 'BR']"
   ]
  },
  {
   "cell_type": "markdown",
   "metadata": {},
   "source": [
    "Temos apenas 8 dados de funcionários que moram no Brasil. Sendo que 3 (37%) deles trabalham para uma empresa nos Estados Unidos. E apenas 2 (25%) funcionários trabalham presencial."
   ]
  },
  {
   "cell_type": "markdown",
   "metadata": {},
   "source": [
    "#### Taxa de Trabalho Remoto"
   ]
  },
  {
   "cell_type": "code",
   "execution_count": 22,
   "metadata": {},
   "outputs": [
    {
     "data": {
      "text/plain": [
       "100    490\n",
       "0      222\n",
       "50     115\n",
       "Name: remote_ratio, dtype: int64"
      ]
     },
     "execution_count": 22,
     "metadata": {},
     "output_type": "execute_result"
    }
   ],
   "source": [
    "df_salary['remote_ratio'].value_counts()"
   ]
  },
  {
   "cell_type": "markdown",
   "metadata": {},
   "source": [
    "A grande maioria dos dados (59%) são de trabalhos totalmente remotos, seguidos dos presenciais (27%). Os trabalhores em modo híbrido são cerca de 14% apenas."
   ]
  },
  {
   "cell_type": "code",
   "execution_count": 23,
   "metadata": {},
   "outputs": [
    {
     "data": {
      "text/plain": [
       "remote_ratio\n",
       "0      124892.067568\n",
       "50      82628.565217\n",
       "100    124776.375510\n",
       "Name: salary_in_usd, dtype: float64"
      ]
     },
     "execution_count": 23,
     "metadata": {},
     "output_type": "execute_result"
    }
   ],
   "source": [
    "remote_salary = df_salary.groupby(['remote_ratio'])\n",
    "remote_salary = remote_salary.salary_in_usd.mean()\n",
    "remote_salary"
   ]
  },
  {
   "cell_type": "code",
   "execution_count": 24,
   "metadata": {
    "scrolled": true
   },
   "outputs": [
    {
     "data": {
      "image/png": "[encoded data removed]",
      "text/plain": [
       "<Figure size 432x288 with 1 Axes>"
      ]
     },
     "metadata": {
      "needs_background": "light"
     },
     "output_type": "display_data"
    }
   ],
   "source": [
    "fig = plt.figure()\n",
    "ax = fig.add_axes([0,0,1,1])\n",
    "types = ['0', '50', '100']\n",
    "ax.bar(types,remote_salary,width=0.7)\n",
    "plt.title('Salário anual por taxa de trabalho remoto ')\n",
    "plt.show()"
   ]
  },
  {
   "cell_type": "code",
   "execution_count": 25,
   "metadata": {},
   "outputs": [],
   "source": [
    "df_2022 = df_salary[df_salary['work_year']==2022]\n",
    "df_2021 = df_salary[df_salary['work_year']==2021]\n",
    "df_2020 = df_salary[df_salary['work_year']==2020]"
   ]
  },
  {
   "cell_type": "code",
   "execution_count": 26,
   "metadata": {
    "scrolled": true
   },
   "outputs": [
    {
     "data": {
      "image/png": "[encoded data removed]",
      "text/plain": [
       "<Figure size 432x288 with 1 Axes>"
      ]
     },
     "metadata": {
      "needs_background": "light"
     },
     "output_type": "display_data"
    }
   ],
   "source": [
    "remote_2022 = df_2022.groupby(['remote_ratio'])\n",
    "remote_2022 = remote_2022.salary_in_usd.mean()\n",
    "\n",
    "remote_2021 = df_2021.groupby(['remote_ratio'])\n",
    "remote_2021 = remote_2021.salary_in_usd.mean()\n",
    "\n",
    "remote_2020 = df_2020.groupby(['remote_ratio'])\n",
    "remote_2020 = remote_2020.salary_in_usd.mean()\n",
    "\n",
    "width=0.4\n",
    "fig,ax = plt.subplots()\n",
    "types = ['0', '50', '100']\n",
    "ax.plot(types,remote_2022,color='darkblue')\n",
    "ax.plot(types,remote_2021,color='dodgerblue')\n",
    "ax.plot(types,remote_2020,color='skyblue')\n",
    "\n",
    "plt.legend(['2022','2021','2020'], fontsize=14)\n",
    "plt.title('Salário anual por taxa de trabalho remoto ')\n",
    "plt.show()"
   ]
  },
  {
   "cell_type": "markdown",
   "metadata": {},
   "source": [
    "Em 2020 e 2021 os trabalhos 100% remotos(100) pagavam mais que os feitos presencial(0), já em 2022 esse cenário mudou e houve um balanceamento dos salários para quem trabalha remoto e presencial. Além disso, podemos observar que os trabalhos feito em modo híbrido(50) pagam uma quantia menor que os outros modos em todos os anos."
   ]
  },
  {
   "cell_type": "markdown",
   "metadata": {},
   "source": [
    "Salários para quem trabalha totalmente remoto ou totalmente presencial estão praticamente iguais."
   ]
  },
  {
   "cell_type": "markdown",
   "metadata": {},
   "source": [
    "#### Tamanho da Empresa"
   ]
  },
  {
   "cell_type": "code",
   "execution_count": 27,
   "metadata": {},
   "outputs": [
    {
     "data": {
      "text/plain": [
       "Text(0.5, 1.0, 'Tamanho da empresa')"
      ]
     },
     "execution_count": 27,
     "metadata": {},
     "output_type": "execute_result"
    },
    {
     "data": {
      "image/png": "[encoded data removed]",
      "text/plain": [
       "<Figure size 432x288 with 1 Axes>"
      ]
     },
     "metadata": {
      "needs_background": "light"
     },
     "output_type": "display_data"
    }
   ],
   "source": [
    "df_salary['company_size'].hist()\n",
    "plt.title('Tamanho da empresa')"
   ]
  },
  {
   "cell_type": "code",
   "execution_count": 28,
   "metadata": {},
   "outputs": [
    {
     "name": "stdout",
     "output_type": "stream",
     "text": [
      "M    0.579202\n",
      "L    0.304716\n",
      "S    0.116082\n",
      "Name: company_size, dtype: float64\n"
     ]
    }
   ],
   "source": [
    "print(df_salary['company_size'].value_counts()/len(df_salary))"
   ]
  },
  {
   "cell_type": "markdown",
   "metadata": {},
   "source": [
    "58% dos dados vem de empresas que são de médio porte."
   ]
  },
  {
   "cell_type": "code",
   "execution_count": 29,
   "metadata": {},
   "outputs": [
    {
     "data": {
      "text/plain": [
       "company_size\n",
       "L    122031.309524\n",
       "M    126496.037578\n",
       "S     73179.750000\n",
       "Name: salary_in_usd, dtype: float64"
      ]
     },
     "execution_count": 29,
     "metadata": {},
     "output_type": "execute_result"
    }
   ],
   "source": [
    "size_salary = df_salary.groupby(['company_size'])\n",
    "size_salary = size_salary.salary_in_usd.mean()\n",
    "size_salary"
   ]
  },
  {
   "cell_type": "code",
   "execution_count": 30,
   "metadata": {},
   "outputs": [
    {
     "data": {
      "image/png": "[encoded data removed]",
      "text/plain": [
       "<Figure size 432x288 with 1 Axes>"
      ]
     },
     "metadata": {
      "needs_background": "light"
     },
     "output_type": "display_data"
    }
   ],
   "source": [
    "fig = plt.figure()\n",
    "ax = fig.add_axes([0,0,1,1])\n",
    "types = ['L', 'M', 'S']\n",
    "ax.bar(types,size_salary,width=0.7)\n",
    "plt.title('Salário anual por tamanho da empresa ')\n",
    "plt.show()"
   ]
  },
  {
   "cell_type": "markdown",
   "metadata": {},
   "source": [
    "Empresas de médio e grande porte pagam salários similares."
   ]
  },
  {
   "cell_type": "markdown",
   "metadata": {},
   "source": [
    "## Conclusão"
   ]
  },
  {
   "cell_type": "markdown",
   "metadata": {},
   "source": [
    "A partir da análise dos dados podemos perceber que a área de dados vem crescendo, tanto em relação a quantidade de vagas que surgem (tomando por base a quantidade de dados obtidos em cada ano), quanto em salário. \n",
    "\n",
    "A maioria dos cargos são para full-time, bom para quem prefere ter um emprego com mais estabilidade e benefícios. Apesar do salário ser menor que para quem é 'contractor', ele está em uma faixa que faz sentido quando se analise todos os tipos de trabalho.\n",
    "\n",
    "Em relação aos top 3 títulos de trabalho estão: Data Engineer, Data Scientist e Data Analyst. Para quem está pretendendo uma mudança de carreira, pode ser bom começar por uma dessas, pelos dados tende a ser as que mais oferecem oportunidades.\n",
    "\n",
    "A maioria dos cargos estão nos Estados Unidos, pode ser porque é onde ficam as maiores empresas de tecnologia (precisariamos de mais dados sobre as empresas). \n",
    "\n",
    "Nos anos de 2020 e 2021 os trabalhos eram majoritariamente remotos, porém esse cenário vem mudando (grande relação com a pandemia do COVID-19)."
   ]
  },
  {
   "cell_type": "code",
   "execution_count": null,
   "metadata": {},
   "outputs": [],
   "source": []
  }
 ],
 "metadata": {
  "kernelspec": {
   "display_name": "Python 3",
   "language": "python",
   "name": "python3"
  },
  "language_info": {
   "codemirror_mode": {
    "name": "ipython",
    "version": 3
   },
   "file_extension": ".py",
   "mimetype": "text/x-python",
   "name": "python",
   "nbconvert_exporter": "python",
   "pygments_lexer": "ipython3",
   "version": "3.8.5"
  }
 },
 "nbformat": 4,
 "nbformat_minor": 4
}
